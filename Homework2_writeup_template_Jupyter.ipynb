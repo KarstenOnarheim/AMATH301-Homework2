{
 "cells": [
  {
   "cell_type": "markdown",
   "id": "3826c3d0",
   "metadata": {},
   "source": [
    "# Homework 2\n",
    "\n",
    "## Name: Karsten Onarheim\n",
    "## Section: A"
   ]
  },
  {
   "cell_type": "markdown",
   "id": "aca42ac2",
   "metadata": {},
   "source": [
    "## Problem 1"
   ]
  },
  {
   "cell_type": "markdown",
   "id": "8304a9b1",
   "metadata": {},
   "source": [
    "### Part a"
   ]
  },
  {
   "cell_type": "code",
   "execution_count": null,
   "id": "782f6faa",
   "metadata": {},
   "outputs": [],
   "source": [
    "import numpy as np\n",
    "import matplotlib.pyplot as plt\n",
    "\n",
    "y1 = 0\n",
    "term = 0.1\n",
    "for k in range(100_000):\n",
    "    y1 = y1 + term\n",
    "y2 = 0\n",
    "term = 0.1\n",
    "for k in range(100_000_000):\n",
    "    y2 = y2 + term\n",
    "y3 = 0\n",
    "term = 0.25\n",
    "for k in range(100_000_000):\n",
    "    y3 = y3 + term\n",
    "y4 = 0\n",
    "term = 0.5\n",
    "for k in range(100_000_000):\n",
    "    y4 = y4 + term\n",
    "\n",
    "x1 = np.abs(10_000 - y1)\n",
    "x2 = np.abs(y2 - 10_000_000)\n",
    "x3 = np.abs(25_000_000 - y3)\n",
    "x4 = np.abs(y4 - 50_000_000)\n",
    "print(x1)\n",
    "print(x2)\n",
    "print(x3)\n",
    "print(x4)\n",
    "print(\"this works\")"
   ]
  },
  {
   "cell_type": "markdown",
   "id": "d0ae52fb",
   "metadata": {},
   "source": []
  },
  {
   "cell_type": "markdown",
   "id": "14edfa7b",
   "metadata": {},
   "source": [
    "In Problem 2 of the coding portion of the homework, I found the following values for $x_1, x_2, x_3,$ and $x_4$. \n",
    "\n",
    "| $x_1$ | $x_2$ | $x_3$ | $x_4$ |\n",
    "| ----- | ----- | ----- | ----- |\n",
    "| answer1 | answer2 |  answer3 | answer4 |"
   ]
  },
  {
   "cell_type": "markdown",
   "id": "1ed166fc",
   "metadata": {},
   "source": [
    "### Part b"
   ]
  },
  {
   "cell_type": "markdown",
   "id": "3f142d9c",
   "metadata": {},
   "source": [
    "### Part c"
   ]
  },
  {
   "cell_type": "markdown",
   "id": "e584291d",
   "metadata": {},
   "source": [
    "## Problem 2"
   ]
  }
 ],
 "metadata": {
  "kernelspec": {
   "display_name": "Python 3 (ipykernel)",
   "language": "python",
   "name": "python3"
  },
  "language_info": {
   "codemirror_mode": {
    "name": "ipython",
    "version": 3
   },
   "file_extension": ".py",
   "mimetype": "text/x-python",
   "name": "python",
   "nbconvert_exporter": "python",
   "pygments_lexer": "ipython3",
   "version": "3.9.13"
  }
 },
 "nbformat": 4,
 "nbformat_minor": 5
}
